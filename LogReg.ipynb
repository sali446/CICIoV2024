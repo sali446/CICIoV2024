{
 "cells": [
  {
   "cell_type": "markdown",
   "id": "1b19771f-5226-4f7a-b706-b30edae319c9",
   "metadata": {},
   "source": [
    "# Internet of Vehicles (IoV) Network Packet Analysis (NPA) for Intrusion Detection Systems (IDS) - Machine Learning"
   ]
  },
  {
   "cell_type": "markdown",
   "id": "52068cca-7780-4fad-ac9c-89ba886c9080",
   "metadata": {},
   "source": [
    "This notebook contains the Machine Learning, logistic regression portion of the this project. After pipelining the data, a model was created and a prediction was generated to determine binary classification of benign and attack byte streams.\n",
    "\n",
    "This section requires the installation of PySpark, FindSpark and pandas"
   ]
  },
  {
   "cell_type": "markdown",
   "id": "942b5785-ccf9-480c-aff3-f538937bdc4b",
   "metadata": {},
   "source": [
    "### Importing Libraries and Initiating PySpark"
   ]
  },
  {
   "cell_type": "code",
   "execution_count": 1,
   "id": "46ac0404-54a0-43df-9b92-edd338a1f503",
   "metadata": {},
   "outputs": [],
   "source": [
    "import numpy as np\n",
    "import pandas as pd\n",
    "from pyspark.sql.functions import col\n",
    "from pyspark.sql.functions import array\n",
    "from pyspark.ml.feature import VectorAssembler\n",
    "from pyspark.ml.linalg import Vectors\n",
    "from pyspark.ml.feature import StringIndexer\n",
    "from pyspark.ml.classification import LogisticRegression\n",
    "from pyspark.ml.evaluation import MulticlassClassificationEvaluator\n",
    "from pyspark.ml import Pipeline"
   ]
  },
  {
   "cell_type": "code",
   "execution_count": 2,
   "id": "b13871f0-5edf-4d1a-bac9-3e7f396d902e",
   "metadata": {},
   "outputs": [],
   "source": [
    "import findspark\n",
    "findspark.init()"
   ]
  },
  {
   "cell_type": "code",
   "execution_count": 3,
   "id": "4fc60b48-0844-40e0-874e-0369f1acdcb6",
   "metadata": {},
   "outputs": [],
   "source": [
    "try:\n",
    "    from pyspark import SparkContext, SparkConf\n",
    "    from pyspark.sql import SparkSession\n",
    "except ImportError as e:\n",
    "    printmd('<<<<<!!!!! Please restart your kernel after installing Apache Spark !!!!!>>>>>')"
   ]
  },
  {
   "cell_type": "code",
   "execution_count": null,
   "id": "da520911-e291-4b56-a803-efd091ef6cb5",
   "metadata": {},
   "outputs": [],
   "source": [
    "sc = SparkContext.getOrCreate(SparkConf().setMaster(\"local[*]\"))\n",
    "\n",
    "spark = SparkSession \\\n",
    "    .builder \\\n",
    "    .getOrCreate()"
   ]
  },
  {
   "cell_type": "markdown",
   "id": "0443a666-cbbb-49bd-97ff-9c8b937d2d43",
   "metadata": {},
   "source": [
    "### Data Loading"
   ]
  },
  {
   "cell_type": "code",
   "execution_count": 5,
   "id": "63576b61-9ae8-4fe2-89af-38e8153411c0",
   "metadata": {},
   "outputs": [
    {
     "name": "stdout",
     "output_type": "stream",
     "text": [
      "+---+------+------+------+------+------+------+------+------+------+--------+--------------+\n",
      "| ID|DATA_0|DATA_1|DATA_2|DATA_3|DATA_4|DATA_5|DATA_6|DATA_7| label|category|specific_class|\n",
      "+---+------+------+------+------+------+------+------+------+------+--------+--------------+\n",
      "|291|     0|     0|     0|     0|     0|     0|     0|     0|ATTACK|     DoS|           DoS|\n",
      "|291|    14|    11|     4|     4|     3|     3|     8|    12|ATTACK|     DoS|           DoS|\n",
      "|291|    14|    11|     4|     4|     3|     3|     8|    12|ATTACK|     DoS|           DoS|\n",
      "|291|    14|    11|     4|     4|     3|     3|     8|    12|ATTACK|     DoS|           DoS|\n",
      "|291|    14|    11|     4|     4|     3|     3|     8|    12|ATTACK|     DoS|           DoS|\n",
      "|291|    14|    11|     4|     4|     3|     3|     8|    12|ATTACK|     DoS|           DoS|\n",
      "|291|    14|    11|     4|     4|     3|     3|     8|    12|ATTACK|     DoS|           DoS|\n",
      "|291|    14|    11|     4|     4|     3|     3|     8|    12|ATTACK|     DoS|           DoS|\n",
      "|291|    14|    11|     4|     4|     3|     3|     8|    12|ATTACK|     DoS|           DoS|\n",
      "|291|    14|    11|     4|     4|     3|     3|     8|    12|ATTACK|     DoS|           DoS|\n",
      "|291|    14|    11|     4|     4|     3|     3|     8|    12|ATTACK|     DoS|           DoS|\n",
      "|291|    14|    11|     4|     4|     3|     3|     8|    12|ATTACK|     DoS|           DoS|\n",
      "|291|    14|    11|     4|     4|     3|     3|     8|    12|ATTACK|     DoS|           DoS|\n",
      "|291|    14|    11|     4|     4|     3|     3|     8|    12|ATTACK|     DoS|           DoS|\n",
      "|291|    14|    11|     4|     4|     3|     3|     8|    12|ATTACK|     DoS|           DoS|\n",
      "|291|    14|    11|     4|     4|     3|     3|     8|    12|ATTACK|     DoS|           DoS|\n",
      "|291|    14|    11|     4|     4|     3|     3|     8|    12|ATTACK|     DoS|           DoS|\n",
      "|291|    14|    11|     4|     4|     3|     3|     8|    12|ATTACK|     DoS|           DoS|\n",
      "|291|    14|    11|     4|     4|     3|     3|     8|    12|ATTACK|     DoS|           DoS|\n",
      "|291|    14|    11|     4|     4|     3|     3|     8|    12|ATTACK|     DoS|           DoS|\n",
      "+---+------+------+------+------+------+------+------+------+------+--------+--------------+\n",
      "only showing top 20 rows\n",
      "\n"
     ]
    }
   ],
   "source": [
    "attack_df = spark.read.csv('./decimal_IOT_Dataset/decimal_attack.csv', header = True)\n",
    "attack_df.createOrReplaceTempView('attack')\n",
    "attack_df.show()"
   ]
  },
  {
   "cell_type": "code",
   "execution_count": 6,
   "id": "fe50a4ff-f857-41ee-8aaf-c55b27408473",
   "metadata": {},
   "outputs": [
    {
     "name": "stdout",
     "output_type": "stream",
     "text": [
      "+----+------+------+------+------+------+------+------+------+------+--------+--------------+\n",
      "|  ID|DATA_0|DATA_1|DATA_2|DATA_3|DATA_4|DATA_5|DATA_6|DATA_7| label|category|specific_class|\n",
      "+----+------+------+------+------+------+------+------+------+------+--------+--------------+\n",
      "|  65|    96|     0|     0|     0|     0|     0|     0|     0|BENIGN|  BENIGN|        BENIGN|\n",
      "|1068|   132|    13|   160|     0|     0|     0|     0|     0|BENIGN|  BENIGN|        BENIGN|\n",
      "| 535|   127|   255|   127|   255|   127|   255|   127|   255|BENIGN|  BENIGN|        BENIGN|\n",
      "| 131|    15|   224|     0|     0|     0|     0|     0|     0|BENIGN|  BENIGN|        BENIGN|\n",
      "| 936|     1|     0|    39|    16|     0|     0|     0|     0|BENIGN|  BENIGN|        BENIGN|\n",
      "| 359|     0|   128|     0|     0|     0|     1|   227|     0|BENIGN|  BENIGN|        BENIGN|\n",
      "| 369|    16|   108|     0|     0|     0|     0|     0|     0|BENIGN|  BENIGN|        BENIGN|\n",
      "| 516|   192|     0|   125|     0|     0|     0|     0|     0|BENIGN|  BENIGN|        BENIGN|\n",
      "| 609|     0|     0|     9|     0|     0|     0|     0|     0|BENIGN|  BENIGN|        BENIGN|\n",
      "|1071|   125|     4|     0|     2|   113|     0|     0|     0|BENIGN|  BENIGN|        BENIGN|\n",
      "|1085|    20|     0|     0|     0|     0|     0|     0|     0|BENIGN|  BENIGN|        BENIGN|\n",
      "|1086|     0|    55|    16|     0|     0|     0|     0|     0|BENIGN|  BENIGN|        BENIGN|\n",
      "| 118|    62|   128|    66|   128|    15|   255|     0|     0|BENIGN|  BENIGN|        BENIGN|\n",
      "| 119|   255|   255|    15|   255|   127|   255|   255|   255|BENIGN|  BENIGN|        BENIGN|\n",
      "| 125|     0|     0|   247|   128|     0|    63|   255|   255|BENIGN|  BENIGN|        BENIGN|\n",
      "| 531|   255|   255|     8|   127|    47|     7|   255|    80|BENIGN|  BENIGN|        BENIGN|\n",
      "| 532|     0|     0|     0|     0|     0|     0|   247|   128|BENIGN|  BENIGN|        BENIGN|\n",
      "| 534|     0|     0|     0|     0|   195|     0|     0|     0|BENIGN|  BENIGN|        BENIGN|\n",
      "| 535|   127|   255|   127|   255|   127|   255|   127|   255|BENIGN|  BENIGN|        BENIGN|\n",
      "|1045|     0|     0|    52|   242|    15|   255|    15|   255|BENIGN|  BENIGN|        BENIGN|\n",
      "+----+------+------+------+------+------+------+------+------+------+--------+--------------+\n",
      "only showing top 20 rows\n",
      "\n"
     ]
    }
   ],
   "source": [
    "benign_df = spark.read.csv('./decimal_IOT_Dataset/decimal_benign.csv', header = True)\n",
    "benign_df.createOrReplaceTempView('benign')\n",
    "benign_df.show()"
   ]
  },
  {
   "cell_type": "markdown",
   "id": "7e561d6e-2026-4e4f-921b-dd4d9feb15a7",
   "metadata": {},
   "source": [
    "### Data Cleansing and Processing"
   ]
  },
  {
   "cell_type": "code",
   "execution_count": 19,
   "id": "a8f70ef6-098d-41f8-a6f9-6ee923815877",
   "metadata": {},
   "outputs": [],
   "source": [
    "# renaming an existing label column for downstream feature engineering\n",
    "attack_df = attack_df.withColumnRenamed(\"label\", \"string\")\n",
    "benign_df = benign_df.withColumnRenamed(\"label\", \"string\")\n",
    "\n",
    "# dropping irrelevant columns\n",
    "attack_df = attack_df.drop('ID', 'category', 'specific_class')\n",
    "benign_df = benign_df.drop('ID', 'category', 'specific_class')\n",
    "\n",
    "# changing data types of feature columns\n",
    "cols_to_cast = ['DATA_0','DATA_1','DATA_2','DATA_3','DATA_4','DATA_5','DATA_6','DATA_7']\n",
    "for col_name in cols_to_cast:\n",
    "    attack_df = attack_df.withColumn(col_name, col(col_name).cast(\"int\"))\n",
    "    benign_df = benign_df.withColumn(col_name, col(col_name).cast(\"int\"))\n",
    "                                              "
   ]
  },
  {
   "cell_type": "markdown",
   "id": "929029fb-4951-4f9c-a618-05afbe5920da",
   "metadata": {},
   "source": [
    "### Test and Train Dataset Creation"
   ]
  },
  {
   "cell_type": "code",
   "execution_count": 20,
   "id": "b5db928f-b8ed-45bc-91bb-72b55268547c",
   "metadata": {},
   "outputs": [
    {
     "name": "stderr",
     "output_type": "stream",
     "text": [
      "                                                                                \r"
     ]
    },
    {
     "name": "stdout",
     "output_type": "stream",
     "text": [
      "+------+------+------+------+------+------+------+------+------+\n",
      "|DATA_0|DATA_1|DATA_2|DATA_3|DATA_4|DATA_5|DATA_6|DATA_7|string|\n",
      "+------+------+------+------+------+------+------+------+------+\n",
      "|     0|     0|     0|     0|     0|     0|     0|     0|BENIGN|\n",
      "|     0|     0|     0|     0|     0|     0|     0|     0|BENIGN|\n",
      "|     0|     0|     0|     0|     0|     0|     0|     0|BENIGN|\n",
      "|     0|     0|     0|     0|     0|     0|     0|     0|BENIGN|\n",
      "|     0|     0|     0|     0|     0|     0|     0|     0|BENIGN|\n",
      "|     0|     0|     0|     0|     0|     0|     0|     0|BENIGN|\n",
      "|     0|     0|     0|     0|     0|     0|     0|     0|BENIGN|\n",
      "|     0|     0|     0|     0|     0|     0|     0|     0|BENIGN|\n",
      "|     0|     0|     0|     0|     0|     0|     0|     0|BENIGN|\n",
      "|     0|     0|     0|     0|     0|     0|     0|     0|BENIGN|\n",
      "|     0|     0|     0|     0|     0|     0|     0|     0|BENIGN|\n",
      "|     0|     0|     0|     0|     0|     0|     0|     0|BENIGN|\n",
      "|     0|     0|     0|     0|     0|     0|     0|     0|BENIGN|\n",
      "|     0|     0|     0|     0|     0|     0|     0|     0|BENIGN|\n",
      "|     0|     0|     0|     0|     0|     0|     0|     0|BENIGN|\n",
      "|     0|     0|     0|     0|     0|     0|     0|     0|BENIGN|\n",
      "|     0|     0|     0|     0|     0|     0|     0|     0|BENIGN|\n",
      "|     0|     0|     0|     0|     0|     0|     0|     0|BENIGN|\n",
      "|     0|     0|     0|     0|     0|     0|     0|     0|BENIGN|\n",
      "|     0|     0|     0|     0|     0|     0|     0|     0|BENIGN|\n",
      "+------+------+------+------+------+------+------+------+------+\n",
      "only showing top 20 rows\n",
      "\n"
     ]
    },
    {
     "name": "stderr",
     "output_type": "stream",
     "text": [
      "[Stage 18:>                                                         (0 + 1) / 1]\r"
     ]
    },
    {
     "name": "stdout",
     "output_type": "stream",
     "text": [
      "+------+------+------+------+------+------+------+------+------+\n",
      "|DATA_0|DATA_1|DATA_2|DATA_3|DATA_4|DATA_5|DATA_6|DATA_7|string|\n",
      "+------+------+------+------+------+------+------+------+------+\n",
      "|     0|     0|     0|     0|     0|     0|     0|     0|BENIGN|\n",
      "|     0|     0|     0|     0|     0|     0|     0|     0|BENIGN|\n",
      "|     0|     0|     0|     0|     0|     0|     0|     0|BENIGN|\n",
      "|     0|     0|     0|     0|     0|     0|     0|     0|BENIGN|\n",
      "|     0|     0|     0|     0|     0|     0|     0|     0|BENIGN|\n",
      "|     0|     0|     0|     0|     0|     0|     0|     0|BENIGN|\n",
      "|     0|     0|     0|     0|     0|     0|     0|     0|BENIGN|\n",
      "|     0|     0|     0|     0|     0|     0|     0|     0|BENIGN|\n",
      "|     0|     0|     0|     0|     0|     0|     0|     0|BENIGN|\n",
      "|     0|     0|     0|     0|     0|     0|     0|     0|BENIGN|\n",
      "|     0|     0|     0|     0|     0|     0|     0|     0|BENIGN|\n",
      "|     0|     0|     0|     0|     0|     0|     0|     0|BENIGN|\n",
      "|     0|     0|     0|     0|     0|     0|     0|     0|BENIGN|\n",
      "|     0|     0|     0|     0|     0|     0|     0|     0|BENIGN|\n",
      "|     0|     0|     0|     0|     0|     0|     0|     0|BENIGN|\n",
      "|     0|     0|     0|     0|     0|     0|     0|     0|BENIGN|\n",
      "|     0|     0|     0|     0|     0|     0|     0|     0|BENIGN|\n",
      "|     0|     0|     0|     0|     0|     0|     0|     0|BENIGN|\n",
      "|     0|     0|     0|     0|     0|     0|     0|     0|BENIGN|\n",
      "|     0|     0|     0|     0|     0|     0|     0|     0|BENIGN|\n",
      "+------+------+------+------+------+------+------+------+------+\n",
      "only showing top 20 rows\n",
      "\n"
     ]
    },
    {
     "name": "stderr",
     "output_type": "stream",
     "text": [
      "                                                                                \r"
     ]
    }
   ],
   "source": [
    "# 70% train data, 30% test from both attack and benign datasets\n",
    "split = [0.7,0.3]\n",
    "atk_dfs = attack_df.randomSplit(split)\n",
    "benign_dfs = benign_df.randomSplit(split)\n",
    "\n",
    "# combine splits from both datasets into new train and test datasets with equal ratios\n",
    "train_df = benign_dfs[0].union(atk_dfs[0])\n",
    "test_df = benign_dfs[1].union(atk_dfs[1])\n",
    "\n",
    "train_df.show()\n",
    "test_df.show()"
   ]
  },
  {
   "cell_type": "markdown",
   "id": "f5cbdb2a-4d32-43c6-8e92-41c115d79b95",
   "metadata": {},
   "source": [
    "### Feature Engineering"
   ]
  },
  {
   "cell_type": "code",
   "execution_count": 21,
   "id": "252cfe08-8349-4d61-9262-28370ce9f282",
   "metadata": {},
   "outputs": [],
   "source": [
    "#Pipeline creation\n",
    "indexer = StringIndexer(inputCol = 'string', outputCol = 'label')\n",
    "\n",
    "vectorAssembler = VectorAssembler(inputCols=['DATA_0','DATA_1','DATA_2','DATA_3','DATA_4','DATA_5','DATA_6','DATA_7'\\\n",
    "                                            ], outputCol='features')\n",
    "\n",
    "lr = LogisticRegression(maxIter = 10, regParam = 0.3, elasticNetParam = 0.8)\n"
   ]
  },
  {
   "cell_type": "code",
   "execution_count": 22,
   "id": "bc974fbf-d97f-4ce1-a259-8b318270a030",
   "metadata": {},
   "outputs": [],
   "source": [
    "pipeline = Pipeline(stages = [indexer, vectorAssembler, lr])"
   ]
  },
  {
   "cell_type": "markdown",
   "id": "4fe0fd17-58d7-47ae-b507-f6ba3b5ea2c2",
   "metadata": {},
   "source": [
    "### Model Creation"
   ]
  },
  {
   "cell_type": "code",
   "execution_count": 23,
   "id": "10091af9-83a3-4e34-a664-2ff3cc7e3c23",
   "metadata": {},
   "outputs": [
    {
     "name": "stderr",
     "output_type": "stream",
     "text": [
      "                                                                                \r"
     ]
    }
   ],
   "source": [
    "model = pipeline.fit(train_df)"
   ]
  },
  {
   "cell_type": "markdown",
   "id": "13717eee-c6b5-42ae-a0e6-8bfb1a8e8da5",
   "metadata": {},
   "source": [
    "### Model Training"
   ]
  },
  {
   "cell_type": "code",
   "execution_count": 24,
   "id": "f72b6d2b-266f-45a2-a404-682ca587d29b",
   "metadata": {},
   "outputs": [],
   "source": [
    "prediction = model.transform(train_df)"
   ]
  },
  {
   "cell_type": "markdown",
   "id": "3e4c691b-b2e2-487a-b10c-4fcfb5194951",
   "metadata": {},
   "source": [
    "### Model Evaluation"
   ]
  },
  {
   "cell_type": "code",
   "execution_count": 25,
   "id": "1af2f171-29bc-45c4-80be-71879833c1a4",
   "metadata": {},
   "outputs": [],
   "source": [
    "eval = MulticlassClassificationEvaluator().setMetricName('accuracy').setLabelCol('label').setPredictionCol('prediction')"
   ]
  },
  {
   "cell_type": "code",
   "execution_count": 26,
   "id": "cd583160-3487-4a5c-82b4-3325c969b6ee",
   "metadata": {},
   "outputs": [
    {
     "name": "stderr",
     "output_type": "stream",
     "text": [
      "                                                                                \r"
     ]
    },
    {
     "data": {
      "text/plain": [
       "0.869193025034954"
      ]
     },
     "execution_count": 26,
     "metadata": {},
     "output_type": "execute_result"
    }
   ],
   "source": [
    "eval.evaluate(prediction)"
   ]
  },
  {
   "cell_type": "code",
   "execution_count": 27,
   "id": "7b542315-c307-4c73-9652-b4c17b06816c",
   "metadata": {},
   "outputs": [],
   "source": [
    "prediction = model.transform(test_df)"
   ]
  },
  {
   "cell_type": "code",
   "execution_count": 28,
   "id": "48e2b6b4-b9df-410d-af0d-f46cf4947e30",
   "metadata": {},
   "outputs": [],
   "source": [
    "eval = MulticlassClassificationEvaluator().setMetricName('accuracy').setLabelCol('label').setPredictionCol('prediction')"
   ]
  },
  {
   "cell_type": "code",
   "execution_count": 44,
   "id": "5fb0549a-9f9a-4316-850f-485d37d248cb",
   "metadata": {},
   "outputs": [
    {
     "name": "stderr",
     "output_type": "stream",
     "text": [
      "                                                                                \r"
     ]
    },
    {
     "data": {
      "text/plain": [
       "0.8685373026971136"
      ]
     },
     "execution_count": 44,
     "metadata": {},
     "output_type": "execute_result"
    }
   ],
   "source": [
    "eval.evaluate(prediction)"
   ]
  },
  {
   "cell_type": "code",
   "execution_count": 45,
   "id": "446ba465-32d0-46fa-87bd-213d1975a8bb",
   "metadata": {},
   "outputs": [],
   "source": [
    "spark.stop()"
   ]
  }
 ],
 "metadata": {
  "kernelspec": {
   "display_name": "Python 3 (ipykernel)",
   "language": "python",
   "name": "python3"
  },
  "language_info": {
   "codemirror_mode": {
    "name": "ipython",
    "version": 3
   },
   "file_extension": ".py",
   "mimetype": "text/x-python",
   "name": "python",
   "nbconvert_exporter": "python",
   "pygments_lexer": "ipython3",
   "version": "3.12.0"
  }
 },
 "nbformat": 4,
 "nbformat_minor": 5
}
