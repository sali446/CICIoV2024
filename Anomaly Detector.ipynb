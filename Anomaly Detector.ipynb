{
 "cells": [
  {
   "cell_type": "markdown",
   "id": "fdc079e1-f255-403f-9fd6-06d31c601256",
   "metadata": {},
   "source": [
    "# Internet of Vehicles (IoV) Network Packet Analysis (NPA) for Intrusion Detection Systems (IDS) - DeepLearning"
   ]
  },
  {
   "cell_type": "markdown",
   "id": "bd7cb675-dab0-414d-aa2e-f1ce5dfa76fb",
   "metadata": {},
   "source": [
    "This notebook contains the DeepLearning portion of the this project. After pipelining the data, a model was created using dense layers with relu and sigmoid activation for binary classification of attack and benign byte streams.\n",
    "\n",
    "This section requires the installation of PySpark, FindSpark, tensorflow, sklearn and pandas"
   ]
  },
  {
   "cell_type": "markdown",
   "id": "db4af653-e0d8-4f82-b182-1bdaed6c649f",
   "metadata": {},
   "source": [
    "### Importing Libraries and Initiating PySpark"
   ]
  },
  {
   "cell_type": "code",
   "execution_count": null,
   "id": "46ac0404-54a0-43df-9b92-edd338a1f503",
   "metadata": {},
   "outputs": [],
   "source": [
    "import numpy as np\n",
    "import pandas as pd\n",
    "from pyspark.sql.functions import col\n",
    "from pyspark.sql.functions import array\n",
    "from pyspark.ml.feature import VectorAssembler\n",
    "from pyspark.ml.feature import StringIndexer\n",
    "from pyspark.ml import Pipeline\n",
    "import sklearn\n",
    "from sklearn.preprocessing import MinMaxScaler #\n",
    "from sklearn.metrics import mean_squared_error\n",
    "import tensorflow as tf\n",
    "from tensorflow.keras.models import Sequential\n",
    "from tensorflow.keras.callbacks import Callback\n",
    "from tensorflow.keras.layers import LSTM, Dense, Activation"
   ]
  },
  {
   "cell_type": "code",
   "execution_count": 2,
   "id": "b13871f0-5edf-4d1a-bac9-3e7f396d902e",
   "metadata": {},
   "outputs": [],
   "source": [
    "import findspark\n",
    "findspark.init()"
   ]
  },
  {
   "cell_type": "code",
   "execution_count": 3,
   "id": "4fc60b48-0844-40e0-874e-0369f1acdcb6",
   "metadata": {},
   "outputs": [],
   "source": [
    "try:\n",
    "    from pyspark import SparkContext, SparkConf\n",
    "    from pyspark.sql import SparkSession\n",
    "except ImportError as e:\n",
    "    printmd('<<<<<!!!!! Please restart your kernel after installing Apache Spark !!!!!>>>>>')"
   ]
  },
  {
   "cell_type": "code",
   "execution_count": null,
   "id": "da520911-e291-4b56-a803-efd091ef6cb5",
   "metadata": {},
   "outputs": [],
   "source": [
    "sc = SparkContext.getOrCreate(SparkConf().setMaster(\"local[*]\"))\n",
    "\n",
    "spark = SparkSession \\\n",
    "    .builder \\\n",
    "    .getOrCreate()"
   ]
  },
  {
   "cell_type": "markdown",
   "id": "8f0a74f1-3f0b-47cc-a42b-07d922ca3708",
   "metadata": {},
   "source": [
    "### Data Loading"
   ]
  },
  {
   "cell_type": "code",
   "execution_count": 5,
   "id": "63576b61-9ae8-4fe2-89af-38e8153411c0",
   "metadata": {},
   "outputs": [
    {
     "name": "stderr",
     "output_type": "stream",
     "text": [
      "                                                                                \r"
     ]
    },
    {
     "name": "stdout",
     "output_type": "stream",
     "text": [
      "+---+------+------+------+------+------+------+------+------+------+--------+--------------+\n",
      "| ID|DATA_0|DATA_1|DATA_2|DATA_3|DATA_4|DATA_5|DATA_6|DATA_7| label|category|specific_class|\n",
      "+---+------+------+------+------+------+------+------+------+------+--------+--------------+\n",
      "|291|     0|     0|     0|     0|     0|     0|     0|     0|ATTACK|     DoS|           DoS|\n",
      "|291|    14|    11|     4|     4|     3|     3|     8|    12|ATTACK|     DoS|           DoS|\n",
      "|291|    14|    11|     4|     4|     3|     3|     8|    12|ATTACK|     DoS|           DoS|\n",
      "|291|    14|    11|     4|     4|     3|     3|     8|    12|ATTACK|     DoS|           DoS|\n",
      "|291|    14|    11|     4|     4|     3|     3|     8|    12|ATTACK|     DoS|           DoS|\n",
      "|291|    14|    11|     4|     4|     3|     3|     8|    12|ATTACK|     DoS|           DoS|\n",
      "|291|    14|    11|     4|     4|     3|     3|     8|    12|ATTACK|     DoS|           DoS|\n",
      "|291|    14|    11|     4|     4|     3|     3|     8|    12|ATTACK|     DoS|           DoS|\n",
      "|291|    14|    11|     4|     4|     3|     3|     8|    12|ATTACK|     DoS|           DoS|\n",
      "|291|    14|    11|     4|     4|     3|     3|     8|    12|ATTACK|     DoS|           DoS|\n",
      "|291|    14|    11|     4|     4|     3|     3|     8|    12|ATTACK|     DoS|           DoS|\n",
      "|291|    14|    11|     4|     4|     3|     3|     8|    12|ATTACK|     DoS|           DoS|\n",
      "|291|    14|    11|     4|     4|     3|     3|     8|    12|ATTACK|     DoS|           DoS|\n",
      "|291|    14|    11|     4|     4|     3|     3|     8|    12|ATTACK|     DoS|           DoS|\n",
      "|291|    14|    11|     4|     4|     3|     3|     8|    12|ATTACK|     DoS|           DoS|\n",
      "|291|    14|    11|     4|     4|     3|     3|     8|    12|ATTACK|     DoS|           DoS|\n",
      "|291|    14|    11|     4|     4|     3|     3|     8|    12|ATTACK|     DoS|           DoS|\n",
      "|291|    14|    11|     4|     4|     3|     3|     8|    12|ATTACK|     DoS|           DoS|\n",
      "|291|    14|    11|     4|     4|     3|     3|     8|    12|ATTACK|     DoS|           DoS|\n",
      "|291|    14|    11|     4|     4|     3|     3|     8|    12|ATTACK|     DoS|           DoS|\n",
      "+---+------+------+------+------+------+------+------+------+------+--------+--------------+\n",
      "only showing top 20 rows\n",
      "\n"
     ]
    }
   ],
   "source": [
    "attack_df = spark.read.csv('./decimal_IOT_Dataset/decimal_attack.csv', header = True)\n",
    "attack_df.createOrReplaceTempView('attack')\n",
    "attack_df.show()"
   ]
  },
  {
   "cell_type": "code",
   "execution_count": 6,
   "id": "fe50a4ff-f857-41ee-8aaf-c55b27408473",
   "metadata": {},
   "outputs": [
    {
     "name": "stdout",
     "output_type": "stream",
     "text": [
      "+----+------+------+------+------+------+------+------+------+------+--------+--------------+\n",
      "|  ID|DATA_0|DATA_1|DATA_2|DATA_3|DATA_4|DATA_5|DATA_6|DATA_7| label|category|specific_class|\n",
      "+----+------+------+------+------+------+------+------+------+------+--------+--------------+\n",
      "|  65|    96|     0|     0|     0|     0|     0|     0|     0|BENIGN|  BENIGN|        BENIGN|\n",
      "|1068|   132|    13|   160|     0|     0|     0|     0|     0|BENIGN|  BENIGN|        BENIGN|\n",
      "| 535|   127|   255|   127|   255|   127|   255|   127|   255|BENIGN|  BENIGN|        BENIGN|\n",
      "| 131|    15|   224|     0|     0|     0|     0|     0|     0|BENIGN|  BENIGN|        BENIGN|\n",
      "| 936|     1|     0|    39|    16|     0|     0|     0|     0|BENIGN|  BENIGN|        BENIGN|\n",
      "| 359|     0|   128|     0|     0|     0|     1|   227|     0|BENIGN|  BENIGN|        BENIGN|\n",
      "| 369|    16|   108|     0|     0|     0|     0|     0|     0|BENIGN|  BENIGN|        BENIGN|\n",
      "| 516|   192|     0|   125|     0|     0|     0|     0|     0|BENIGN|  BENIGN|        BENIGN|\n",
      "| 609|     0|     0|     9|     0|     0|     0|     0|     0|BENIGN|  BENIGN|        BENIGN|\n",
      "|1071|   125|     4|     0|     2|   113|     0|     0|     0|BENIGN|  BENIGN|        BENIGN|\n",
      "|1085|    20|     0|     0|     0|     0|     0|     0|     0|BENIGN|  BENIGN|        BENIGN|\n",
      "|1086|     0|    55|    16|     0|     0|     0|     0|     0|BENIGN|  BENIGN|        BENIGN|\n",
      "| 118|    62|   128|    66|   128|    15|   255|     0|     0|BENIGN|  BENIGN|        BENIGN|\n",
      "| 119|   255|   255|    15|   255|   127|   255|   255|   255|BENIGN|  BENIGN|        BENIGN|\n",
      "| 125|     0|     0|   247|   128|     0|    63|   255|   255|BENIGN|  BENIGN|        BENIGN|\n",
      "| 531|   255|   255|     8|   127|    47|     7|   255|    80|BENIGN|  BENIGN|        BENIGN|\n",
      "| 532|     0|     0|     0|     0|     0|     0|   247|   128|BENIGN|  BENIGN|        BENIGN|\n",
      "| 534|     0|     0|     0|     0|   195|     0|     0|     0|BENIGN|  BENIGN|        BENIGN|\n",
      "| 535|   127|   255|   127|   255|   127|   255|   127|   255|BENIGN|  BENIGN|        BENIGN|\n",
      "|1045|     0|     0|    52|   242|    15|   255|    15|   255|BENIGN|  BENIGN|        BENIGN|\n",
      "+----+------+------+------+------+------+------+------+------+------+--------+--------------+\n",
      "only showing top 20 rows\n",
      "\n"
     ]
    }
   ],
   "source": [
    "benign_df = spark.read.csv('./decimal_IOT_Dataset/decimal_benign.csv', header = True)\n",
    "benign_df.createOrReplaceTempView('benign')\n",
    "benign_df.show()"
   ]
  },
  {
   "cell_type": "markdown",
   "id": "a1050e14-e049-4f17-bd17-6a133edf73bd",
   "metadata": {},
   "source": [
    "### Data Cleaning and Processing"
   ]
  },
  {
   "cell_type": "code",
   "execution_count": 21,
   "id": "a8f70ef6-098d-41f8-a6f9-6ee923815877",
   "metadata": {},
   "outputs": [],
   "source": [
    "# renaming an existing label column for downstream feature engineering\n",
    "attack_df = attack_df.withColumnRenamed(\"label\", \"string\")\n",
    "benign_df = benign_df.withColumnRenamed(\"label\", \"string\")\n",
    "\n",
    "# dropping irrelevant columns\n",
    "attack_df = attack_df.drop('ID', 'category', 'specific_class')\n",
    "benign_df = benign_df.drop('ID', 'category', 'specific_class')\n",
    "\n",
    "# changing data types of feature columns\n",
    "cols_to_cast = ['DATA_0','DATA_1','DATA_2','DATA_3','DATA_4','DATA_5','DATA_6','DATA_7']\n",
    "for col_name in cols_to_cast:\n",
    "    attack_df = attack_df.withColumn(col_name, col(col_name).cast(\"int\"))\n",
    "    benign_df = benign_df.withColumn(col_name, col(col_name).cast(\"int\"))\n",
    "                                              "
   ]
  },
  {
   "cell_type": "markdown",
   "id": "abad4e5d-a6b9-41bc-be5e-845db2fa3fb6",
   "metadata": {},
   "source": [
    "### Test and Train Dataset Creation"
   ]
  },
  {
   "cell_type": "code",
   "execution_count": 22,
   "id": "b5db928f-b8ed-45bc-91bb-72b55268547c",
   "metadata": {},
   "outputs": [
    {
     "name": "stderr",
     "output_type": "stream",
     "text": [
      "                                                                                \r"
     ]
    },
    {
     "name": "stdout",
     "output_type": "stream",
     "text": [
      "+------+------+------+------+------+------+------+------+------+\n",
      "|DATA_0|DATA_1|DATA_2|DATA_3|DATA_4|DATA_5|DATA_6|DATA_7|string|\n",
      "+------+------+------+------+------+------+------+------+------+\n",
      "|     0|     0|     0|     0|     0|     0|     0|     0|BENIGN|\n",
      "|     0|     0|     0|     0|     0|     0|     0|     0|BENIGN|\n",
      "|     0|     0|     0|     0|     0|     0|     0|     0|BENIGN|\n",
      "|     0|     0|     0|     0|     0|     0|     0|     0|BENIGN|\n",
      "|     0|     0|     0|     0|     0|     0|     0|     0|BENIGN|\n",
      "|     0|     0|     0|     0|     0|     0|     0|     0|BENIGN|\n",
      "|     0|     0|     0|     0|     0|     0|     0|     0|BENIGN|\n",
      "|     0|     0|     0|     0|     0|     0|     0|     0|BENIGN|\n",
      "|     0|     0|     0|     0|     0|     0|     0|     0|BENIGN|\n",
      "|     0|     0|     0|     0|     0|     0|     0|     0|BENIGN|\n",
      "|     0|     0|     0|     0|     0|     0|     0|     0|BENIGN|\n",
      "|     0|     0|     0|     0|     0|     0|     0|     0|BENIGN|\n",
      "|     0|     0|     0|     0|     0|     0|     0|     0|BENIGN|\n",
      "|     0|     0|     0|     0|     0|     0|     0|     0|BENIGN|\n",
      "|     0|     0|     0|     0|     0|     0|     0|     0|BENIGN|\n",
      "|     0|     0|     0|     0|     0|     0|     0|     0|BENIGN|\n",
      "|     0|     0|     0|     0|     0|     0|     0|     0|BENIGN|\n",
      "|     0|     0|     0|     0|     0|     0|     0|     0|BENIGN|\n",
      "|     0|     0|     0|     0|     0|     0|     0|     0|BENIGN|\n",
      "|     0|     0|     0|     0|     0|     0|     0|     0|BENIGN|\n",
      "+------+------+------+------+------+------+------+------+------+\n",
      "only showing top 20 rows\n",
      "\n"
     ]
    },
    {
     "name": "stderr",
     "output_type": "stream",
     "text": [
      "[Stage 25:>                                                         (0 + 1) / 1]\r"
     ]
    },
    {
     "name": "stdout",
     "output_type": "stream",
     "text": [
      "+------+------+------+------+------+------+------+------+------+\n",
      "|DATA_0|DATA_1|DATA_2|DATA_3|DATA_4|DATA_5|DATA_6|DATA_7|string|\n",
      "+------+------+------+------+------+------+------+------+------+\n",
      "|     0|     0|     0|     0|     0|     0|     0|     0|BENIGN|\n",
      "|     0|     0|     0|     0|     0|     0|     0|     0|BENIGN|\n",
      "|     0|     0|     0|     0|     0|     0|     0|     0|BENIGN|\n",
      "|     0|     0|     0|     0|     0|     0|     0|     0|BENIGN|\n",
      "|     0|     0|     0|     0|     0|     0|     0|     0|BENIGN|\n",
      "|     0|     0|     0|     0|     0|     0|     0|     0|BENIGN|\n",
      "|     0|     0|     0|     0|     0|     0|     0|     0|BENIGN|\n",
      "|     0|     0|     0|     0|     0|     0|     0|     0|BENIGN|\n",
      "|     0|     0|     0|     0|     0|     0|     0|     0|BENIGN|\n",
      "|     0|     0|     0|     0|     0|     0|     0|     0|BENIGN|\n",
      "|     0|     0|     0|     0|     0|     0|     0|     0|BENIGN|\n",
      "|     0|     0|     0|     0|     0|     0|     0|     0|BENIGN|\n",
      "|     0|     0|     0|     0|     0|     0|     0|     0|BENIGN|\n",
      "|     0|     0|     0|     0|     0|     0|     0|     0|BENIGN|\n",
      "|     0|     0|     0|     0|     0|     0|     0|     0|BENIGN|\n",
      "|     0|     0|     0|     0|     0|     0|     0|     0|BENIGN|\n",
      "|     0|     0|     0|     0|     0|     0|     0|     0|BENIGN|\n",
      "|     0|     0|     0|     0|     0|     0|     0|     0|BENIGN|\n",
      "|     0|     0|     0|     0|     0|     0|     0|     0|BENIGN|\n",
      "|     0|     0|     0|     0|     0|     0|     0|     0|BENIGN|\n",
      "+------+------+------+------+------+------+------+------+------+\n",
      "only showing top 20 rows\n",
      "\n"
     ]
    },
    {
     "name": "stderr",
     "output_type": "stream",
     "text": [
      "                                                                                \r"
     ]
    }
   ],
   "source": [
    "# 70% train data, 30% test from both attack and benign datasets\n",
    "split = [0.7,0.3]\n",
    "atk_dfs = attack_df.randomSplit(split)\n",
    "benign_dfs = benign_df.randomSplit(split)\n",
    "\n",
    "# combine splits from both datasets into new train and test datasets with equal ratios\n",
    "train_df = benign_dfs[0].union(atk_dfs[0])\n",
    "test_df = benign_dfs[1].union(atk_dfs[1])\n",
    "\n",
    "train_df.show()\n",
    "test_df.show()"
   ]
  },
  {
   "cell_type": "markdown",
   "id": "8a92cbbf-901c-4d43-968b-8173b9b3e7f8",
   "metadata": {},
   "source": [
    "### Feature Engineering"
   ]
  },
  {
   "cell_type": "code",
   "execution_count": 23,
   "id": "252cfe08-8349-4d61-9262-28370ce9f282",
   "metadata": {},
   "outputs": [
    {
     "name": "stderr",
     "output_type": "stream",
     "text": [
      "                                                                                \r"
     ]
    }
   ],
   "source": [
    "indexer = StringIndexer(inputCol = 'string', outputCol = 'label')\n",
    "\n",
    "train_data = indexer.fit(train_df).transform(train_df)\n",
    "test_data = indexer.fit(test_df).transform(test_df)\n"
   ]
  },
  {
   "cell_type": "code",
   "execution_count": 27,
   "id": "3750e383-764e-4217-bc51-f71f1cc3204e",
   "metadata": {},
   "outputs": [
    {
     "name": "stderr",
     "output_type": "stream",
     "text": [
      "                                                                                \r"
     ]
    }
   ],
   "source": [
    "pandas_df = train_data.toPandas()\n",
    "\n",
    "# Convert Pandas DataFrame to NumPy array\n",
    "numpy_array = pandas_df.to_numpy()\n",
    "\n",
    "X_train = numpy_array[:, :-1]  # Input features (all columns except the last one)\n",
    "y_train = numpy_array[:, -1]   # Target variable (last column)"
   ]
  },
  {
   "cell_type": "code",
   "execution_count": 28,
   "id": "027acb9c-4b3b-412b-8eba-d25c8e2d3f79",
   "metadata": {},
   "outputs": [
    {
     "name": "stderr",
     "output_type": "stream",
     "text": [
      "                                                                                \r"
     ]
    }
   ],
   "source": [
    "pandas_df = test_data.toPandas()\n",
    "\n",
    "# Convert Pandas DataFrame to NumPy array\n",
    "numpy_array = pandas_df.to_numpy()\n",
    "\n",
    "X_test = numpy_array[:, :-1]  # Input features (all columns except the last one)\n",
    "y_test = numpy_array[:, -1]   # Target variable (last column)"
   ]
  },
  {
   "cell_type": "code",
   "execution_count": 29,
   "id": "b6d3ca24-f5a9-43fd-9ee9-dd05532351d0",
   "metadata": {},
   "outputs": [],
   "source": [
    "X_train = X_train.astype(np.float32)\n",
    "X_test = X_test.astype(np.float32)\n",
    "y_train = y_train.astype(np.float32)\n",
    "y_test = y_test.astype(np.float32)"
   ]
  },
  {
   "cell_type": "markdown",
   "id": "d4caddb0-55a8-42a4-88b3-cdd1bf78247a",
   "metadata": {},
   "source": [
    "### Model Creation"
   ]
  },
  {
   "cell_type": "code",
   "execution_count": null,
   "id": "1579e025-02ab-495b-b5ac-e774ac159257",
   "metadata": {},
   "outputs": [],
   "source": [
    "model = Sequential()\n",
    "model.add(Dense(64, input_shape = (X_train.shape[1],), activation = 'relu'))\n",
    "model.add(Dense(8, activation = 'relu'))\n",
    "model.add(Dense(1, activation = 'sigmoid'))\n",
    "\n",
    "model.compile(optimizer='adam', loss='binary_crossentropy', metrics=['accuracy'])"
   ]
  },
  {
   "cell_type": "markdown",
   "id": "18838676-ffea-490b-99b1-f654a9eed45f",
   "metadata": {},
   "source": [
    "### Model Training"
   ]
  },
  {
   "cell_type": "code",
   "execution_count": 31,
   "id": "c1dcd5ab-046e-450b-b73e-5da91ebe10f0",
   "metadata": {},
   "outputs": [
    {
     "name": "stdout",
     "output_type": "stream",
     "text": [
      "Epoch 1/10\n",
      "\u001b[1m12306/12306\u001b[0m \u001b[32m━━━━━━━━━━━━━━━━━━━━\u001b[0m\u001b[37m\u001b[0m \u001b[1m22s\u001b[0m 2ms/step - accuracy: 0.9999 - loss: 0.0015 - val_accuracy: 0.3438 - val_loss: 123.5675\n",
      "Epoch 2/10\n",
      "\u001b[1m12306/12306\u001b[0m \u001b[32m━━━━━━━━━━━━━━━━━━━━\u001b[0m\u001b[37m\u001b[0m \u001b[1m23s\u001b[0m 2ms/step - accuracy: 1.0000 - loss: 4.8553e-09 - val_accuracy: 0.3438 - val_loss: 147.3027\n",
      "Epoch 3/10\n",
      "\u001b[1m12306/12306\u001b[0m \u001b[32m━━━━━━━━━━━━━━━━━━━━\u001b[0m\u001b[37m\u001b[0m \u001b[1m22s\u001b[0m 2ms/step - accuracy: 1.0000 - loss: 8.0410e-11 - val_accuracy: 0.3438 - val_loss: 155.3538\n",
      "Epoch 4/10\n",
      "\u001b[1m12306/12306\u001b[0m \u001b[32m━━━━━━━━━━━━━━━━━━━━\u001b[0m\u001b[37m\u001b[0m \u001b[1m23s\u001b[0m 2ms/step - accuracy: 1.0000 - loss: 2.6039e-11 - val_accuracy: 0.3438 - val_loss: 158.9601\n",
      "Epoch 5/10\n",
      "\u001b[1m12306/12306\u001b[0m \u001b[32m━━━━━━━━━━━━━━━━━━━━\u001b[0m\u001b[37m\u001b[0m \u001b[1m23s\u001b[0m 2ms/step - accuracy: 1.0000 - loss: 1.5425e-11 - val_accuracy: 0.3438 - val_loss: 161.2300\n",
      "Epoch 6/10\n",
      "\u001b[1m12306/12306\u001b[0m \u001b[32m━━━━━━━━━━━━━━━━━━━━\u001b[0m\u001b[37m\u001b[0m \u001b[1m23s\u001b[0m 2ms/step - accuracy: 1.0000 - loss: 1.0836e-11 - val_accuracy: 0.3438 - val_loss: 162.8943\n",
      "Epoch 7/10\n",
      "\u001b[1m12306/12306\u001b[0m \u001b[32m━━━━━━━━━━━━━━━━━━━━\u001b[0m\u001b[37m\u001b[0m \u001b[1m23s\u001b[0m 2ms/step - accuracy: 1.0000 - loss: 8.3824e-12 - val_accuracy: 0.3438 - val_loss: 164.2190\n",
      "Epoch 8/10\n",
      "\u001b[1m12306/12306\u001b[0m \u001b[32m━━━━━━━━━━━━━━━━━━━━\u001b[0m\u001b[37m\u001b[0m \u001b[1m23s\u001b[0m 2ms/step - accuracy: 1.0000 - loss: 6.7791e-12 - val_accuracy: 0.3438 - val_loss: 165.3114\n",
      "Epoch 9/10\n",
      "\u001b[1m12306/12306\u001b[0m \u001b[32m━━━━━━━━━━━━━━━━━━━━\u001b[0m\u001b[37m\u001b[0m \u001b[1m23s\u001b[0m 2ms/step - accuracy: 1.0000 - loss: 5.7015e-12 - val_accuracy: 0.3438 - val_loss: 166.2359\n",
      "Epoch 10/10\n",
      "\u001b[1m12306/12306\u001b[0m \u001b[32m━━━━━━━━━━━━━━━━━━━━\u001b[0m\u001b[37m\u001b[0m \u001b[1m25s\u001b[0m 2ms/step - accuracy: 1.0000 - loss: 4.8730e-12 - val_accuracy: 0.3438 - val_loss: 167.0264\n"
     ]
    },
    {
     "data": {
      "text/plain": [
       "<keras.src.callbacks.history.History at 0x19609baa0>"
      ]
     },
     "execution_count": 31,
     "metadata": {},
     "output_type": "execute_result"
    }
   ],
   "source": [
    "model.fit(X_train, y_train, epochs=10, batch_size=64, validation_split=0.2)"
   ]
  },
  {
   "cell_type": "markdown",
   "id": "daeb3326-27fb-4d0f-a26a-ecccf3ff748d",
   "metadata": {},
   "source": [
    "### Model Evaluation"
   ]
  },
  {
   "cell_type": "code",
   "execution_count": 32,
   "id": "aac5809c-161e-430e-a3a8-a9601a57f83d",
   "metadata": {},
   "outputs": [
    {
     "name": "stdout",
     "output_type": "stream",
     "text": [
      "\u001b[1m13243/13243\u001b[0m \u001b[32m━━━━━━━━━━━━━━━━━━━━\u001b[0m\u001b[37m\u001b[0m \u001b[1m15s\u001b[0m 1ms/step - accuracy: 0.9911 - loss: 2.5252\n",
      "Test Loss: 33.67734909057617, Test Accuracy: 0.8695608973503113\n"
     ]
    }
   ],
   "source": [
    "loss, accuracy = model.evaluate(X_test, y_test)\n",
    "print(f\"Test Loss: {loss}, Test Accuracy: {accuracy}\")"
   ]
  },
  {
   "cell_type": "code",
   "execution_count": null,
   "id": "446ba465-32d0-46fa-87bd-213d1975a8bb",
   "metadata": {},
   "outputs": [],
   "source": [
    "spark.stop()"
   ]
  }
 ],
 "metadata": {
  "kernelspec": {
   "display_name": "Python 3 (ipykernel)",
   "language": "python",
   "name": "python3"
  },
  "language_info": {
   "codemirror_mode": {
    "name": "ipython",
    "version": 3
   },
   "file_extension": ".py",
   "mimetype": "text/x-python",
   "name": "python",
   "nbconvert_exporter": "python",
   "pygments_lexer": "ipython3",
   "version": "3.12.0"
  }
 },
 "nbformat": 4,
 "nbformat_minor": 5
}
